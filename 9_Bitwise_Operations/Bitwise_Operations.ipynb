{
 "cells": [
  {
   "cell_type": "markdown",
   "id": "770be58b",
   "metadata": {},
   "source": [
    "# Bitwise Operations"
   ]
  },
  {
   "cell_type": "code",
   "execution_count": 1,
   "id": "ab763bc2",
   "metadata": {},
   "outputs": [],
   "source": [
    "import numpy as np\n",
    "import cv2"
   ]
  },
  {
   "cell_type": "code",
   "execution_count": 2,
   "id": "10d59bd9",
   "metadata": {},
   "outputs": [],
   "source": [
    "rectangle = np.zeros((300,300),dtype='uint8')\n",
    "cv2.rectangle(rectangle,(25,25),(275,275),255,-1)\n",
    "\n",
    "cv2.imshow('rectangle',rectangle)\n",
    "cv2.waitKey(0)\n",
    "cv2.destroyAllWindows()"
   ]
  },
  {
   "cell_type": "code",
   "execution_count": 3,
   "id": "9624f1fe",
   "metadata": {},
   "outputs": [],
   "source": [
    "circle = np.zeros((300,300),dtype='uint8')\n",
    "cv2.circle(circle,(150,150),150,255,-1)\n",
    "\n",
    "cv2.imshow('circle',circle)\n",
    "cv2.waitKey(0)\n",
    "cv2.destroyAllWindows()"
   ]
  },
  {
   "cell_type": "markdown",
   "id": "2da5d958",
   "metadata": {},
   "source": [
    "## AND"
   ]
  },
  {
   "cell_type": "code",
   "execution_count": 4,
   "id": "04b849c3",
   "metadata": {},
   "outputs": [],
   "source": [
    "img_and = cv2.bitwise_and(rectangle,circle)\n",
    "\n",
    "cv2.imshow('rectangle',rectangle)\n",
    "cv2.imshow('circle',circle)\n",
    "cv2.imshow('AND',img_and)\n",
    "cv2.waitKey(0)\n",
    "cv2.destroyAllWindows()"
   ]
  },
  {
   "cell_type": "markdown",
   "id": "ddaa2737",
   "metadata": {},
   "source": [
    "## OR"
   ]
  },
  {
   "cell_type": "code",
   "execution_count": 5,
   "id": "fb5163d0",
   "metadata": {},
   "outputs": [],
   "source": [
    "img_or = cv2.bitwise_or(rectangle,circle)\n",
    "\n",
    "cv2.imshow('rectangle',rectangle)\n",
    "cv2.imshow('circle',circle)\n",
    "cv2.imshow('OR',img_or)\n",
    "cv2.waitKey(0)\n",
    "cv2.destroyAllWindows()"
   ]
  },
  {
   "cell_type": "markdown",
   "id": "68e56368",
   "metadata": {},
   "source": [
    "## NOT"
   ]
  },
  {
   "cell_type": "code",
   "execution_count": 6,
   "id": "b007dfb0",
   "metadata": {},
   "outputs": [],
   "source": [
    "img_not = cv2.bitwise_not(rectangle)\n",
    "\n",
    "cv2.imshow('img',rectangle)\n",
    "cv2.imshow('not',img_not)\n",
    "cv2.waitKey(0)\n",
    "cv2.destroyAllWindows()"
   ]
  },
  {
   "cell_type": "code",
   "execution_count": 7,
   "id": "ac9df8fb",
   "metadata": {},
   "outputs": [],
   "source": [
    "img_not = cv2.bitwise_not(circle)\n",
    "\n",
    "cv2.imshow('img',circle)\n",
    "cv2.imshow('not',img_not)\n",
    "cv2.waitKey(0)\n",
    "cv2.destroyAllWindows()"
   ]
  },
  {
   "cell_type": "markdown",
   "id": "2b320b2f",
   "metadata": {},
   "source": [
    "## XOR"
   ]
  },
  {
   "cell_type": "code",
   "execution_count": 8,
   "id": "caa04bc2",
   "metadata": {},
   "outputs": [],
   "source": [
    "img_xor = cv2.bitwise_xor(rectangle,circle)\n",
    "\n",
    "cv2.imshow('rectangle',rectangle)\n",
    "cv2.imshow('circle',circle)\n",
    "cv2.imshow('XOR',img_xor)\n",
    "cv2.waitKey(0)\n",
    "cv2.destroyAllWindows()"
   ]
  }
 ],
 "metadata": {
  "kernelspec": {
   "display_name": "Python 3 (ipykernel)",
   "language": "python",
   "name": "python3"
  },
  "language_info": {
   "codemirror_mode": {
    "name": "ipython",
    "version": 3
   },
   "file_extension": ".py",
   "mimetype": "text/x-python",
   "name": "python",
   "nbconvert_exporter": "python",
   "pygments_lexer": "ipython3",
   "version": "3.9.7"
  }
 },
 "nbformat": 4,
 "nbformat_minor": 5
}
