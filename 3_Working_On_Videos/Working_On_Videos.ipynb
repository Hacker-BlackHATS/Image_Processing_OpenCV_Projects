{
 "cells": [
  {
   "cell_type": "markdown",
   "id": "dbcd27b1",
   "metadata": {},
   "source": [
    "# Working On Videos"
   ]
  },
  {
   "cell_type": "markdown",
   "id": "268025be",
   "metadata": {},
   "source": [
    "## Load And Display"
   ]
  },
  {
   "cell_type": "code",
   "execution_count": 1,
   "id": "14a75b09",
   "metadata": {},
   "outputs": [],
   "source": [
    "import numpy as np\n",
    "import cv2\n",
    "import time"
   ]
  },
  {
   "cell_type": "code",
   "execution_count": 2,
   "id": "12d878a2",
   "metadata": {},
   "outputs": [],
   "source": [
    "cap = cv2.VideoCapture('./data/clip.mp4')"
   ]
  },
  {
   "cell_type": "code",
   "execution_count": 3,
   "id": "1735b1eb",
   "metadata": {},
   "outputs": [],
   "source": [
    "# As video is a flood of images and i just want to display each and every frame, so that is the reason we are going\n",
    "# to use while loop, which is an infinite loop here.\n",
    "while True:\n",
    "    ret, frame = cap.read()\n",
    "    # ret(return) will say that whether you can able to read this image or not.\n",
    "    # For Example, if you read the image and the video is done, means its the end of the video, \n",
    "    # then the return will get False. You can also get the False when the clip is not at all available.\n",
    "    if ret == False:\n",
    "        break\n",
    "    \n",
    "    cv2.imshow(\"Video\", frame)\n",
    "    \n",
    "    # Now he next step is, i just wanted to provide the delay. Now this is vey key while working on the video capture.\n",
    "    # We need to specify the delay here. And what is the right appropriate delay is? That depends upon the clip and we\n",
    "    # need to find the right appropriate delay.\n",
    "    \n",
    "    # At the moment what i will do is that let me set my waitKey(1) means i just want to wait for  milisecond,\n",
    "    # then immediately after that i will again show more framed wait. And if it all user want to close this video,\n",
    "    # then we can also provide some kind of a keyboard button, which is nothing but ord('q') when user presses button 'q' then\n",
    "    # that window has to be closed.\n",
    "    if cv2.waitKey(1) == ord('q'): # This is goingto run in 1000 fps, generally it is 24 fps.\n",
    "        break\n",
    "cap.release()\n",
    "cv2.destroyAllWindows()\n",
    "# Let's calculate frames per second"
   ]
  },
  {
   "cell_type": "code",
   "execution_count": 4,
   "id": "a170d45f",
   "metadata": {},
   "outputs": [],
   "source": [
    "cap = cv2.VideoCapture('./data/clip.mp4')\n",
    "fps = 0\n",
    "while True:\n",
    "    start_time = time.time() # start time\n",
    "    ret, frame = cap.read()\n",
    "    if ret == False:\n",
    "        break\n",
    "    \n",
    "    # To show fps in the video\n",
    "    cv2.putText(frame,'FPS: {:.0f}'.format(fps),(30,40),cv2.FONT_HERSHEY_SIMPLEX,1.5,(255,255,255),1) # .0f to only get the integer value\n",
    "    \n",
    "    cv2.imshow('video',frame)\n",
    "    if cv2.waitKey(41) == ord('q'):\n",
    "        break\n",
    "        \n",
    "    time_taken = time.time() - start_time # time taken in seconds, time.time() is the current time\n",
    "    fps = 1/time_taken # frames per seconds\n",
    "    \n",
    "cap.release()\n",
    "cv2.destroyAllWindows()"
   ]
  },
  {
   "cell_type": "code",
   "execution_count": 5,
   "id": "9c8e1a85",
   "metadata": {},
   "outputs": [
    {
     "data": {
      "text/plain": [
       "41.666666666666664"
      ]
     },
     "execution_count": 5,
     "metadata": {},
     "output_type": "execute_result"
    }
   ],
   "source": [
    "1000/24"
   ]
  },
  {
   "cell_type": "markdown",
   "id": "70172f90",
   "metadata": {},
   "source": [
    "## Acessing Web Camera"
   ]
  },
  {
   "cell_type": "code",
   "execution_count": 6,
   "id": "0c8b81d4",
   "metadata": {},
   "outputs": [],
   "source": [
    "cap0 = cv2.VideoCapture(0) # Provide index here, generally the indexing start from0, 1, 2,...\n",
    "# If we provide the index value for VideoCapture to 0, then what happens is that Opencv will\n",
    "# capture the default web camera that is available for you.\n",
    "fps = 0\n",
    "while True:\n",
    "    start_time = time.time() # start time\n",
    "    ret, frame = cap0.read()\n",
    "    if ret == False:\n",
    "        break\n",
    "    \n",
    "    # To show fps in the video\n",
    "    cv2.putText(frame,'FPS: {:.0f}'.format(fps),(30,40),cv2.FONT_HERSHEY_SIMPLEX,1.5,(255,255,255),1) # .0f to only get the integer value\n",
    "    \n",
    "    cv2.imshow('video',frame)\n",
    "    if cv2.waitKey(41) == ord('q'):\n",
    "        break\n",
    "        \n",
    "    time_taken = time.time() - start_time # time taken in seconds, time.time() is the current time\n",
    "    fps = 1/time_taken # frames per seconds\n",
    "    \n",
    "cap0.release()\n",
    "cv2.destroyAllWindows()"
   ]
  },
  {
   "cell_type": "markdown",
   "id": "594ab3fa",
   "metadata": {},
   "source": [
    "### Stacking Multiple Web Cameras"
   ]
  },
  {
   "cell_type": "code",
   "execution_count": null,
   "id": "4bb49b11",
   "metadata": {
    "scrolled": false
   },
   "outputs": [],
   "source": [
    "cap0 = cv2.VideoCapture(0) # 0 , 1 , ...\n",
    "cap1 = cv2.VideoCapture(1) # 0 , 1 , ... For added camera\n",
    "fps = 0\n",
    "while True:\n",
    "    start_time = time.time() # start time\n",
    "    ret, frame0 = cap0.read()\n",
    "    ret, frame1 = cap1.read()\n",
    "        \n",
    "    cv2.putText(frame0,'FPS: {:.0f}'.format(fps),(30,40),cv2.FONT_HERSHEY_SIMPLEX,1.5,\n",
    "                (255,255,255),1)\n",
    "    cv2.putText(frame1,'FPS: {:.0f}'.format(fps),(30,40),cv2.FONT_HERSHEY_SIMPLEX,1.5,\n",
    "                (255,255,255),1)\n",
    "    \n",
    "    # horizantal stack\n",
    "    hstack = np.hstack((frame0,frame1))\n",
    "    \n",
    "    \n",
    "    cv2.imshow('camera-1',frame0)\n",
    "    cv2.imshow('camera-2',frame1)\n",
    "    cv2.imshow('camera-12',hstack)\n",
    "    if cv2.waitKey(1) == ord('q'):\n",
    "        break\n",
    "    \n",
    "        \n",
    "    time_taken = time.time() - start_time # time taken in seconds\n",
    "    fps = 1/time_taken # frames per seconds\n",
    "    \n",
    "cap.release()\n",
    "cv2.destroyAllWindows()"
   ]
  },
  {
   "cell_type": "code",
   "execution_count": null,
   "id": "a3c7abd2",
   "metadata": {
    "scrolled": true
   },
   "outputs": [],
   "source": [
    "frame0.shape"
   ]
  },
  {
   "cell_type": "code",
   "execution_count": null,
   "id": "bf831f45",
   "metadata": {},
   "outputs": [],
   "source": [
    "frame1.shape"
   ]
  }
 ],
 "metadata": {
  "kernelspec": {
   "display_name": "Python 3 (ipykernel)",
   "language": "python",
   "name": "python3"
  },
  "language_info": {
   "codemirror_mode": {
    "name": "ipython",
    "version": 3
   },
   "file_extension": ".py",
   "mimetype": "text/x-python",
   "name": "python",
   "nbconvert_exporter": "python",
   "pygments_lexer": "ipython3",
   "version": "3.9.7"
  }
 },
 "nbformat": 4,
 "nbformat_minor": 5
}
