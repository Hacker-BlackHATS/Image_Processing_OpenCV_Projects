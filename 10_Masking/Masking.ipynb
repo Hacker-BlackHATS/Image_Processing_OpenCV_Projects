{
 "cells": [
  {
   "cell_type": "markdown",
   "id": "48493165",
   "metadata": {},
   "source": [
    "# Masking"
   ]
  },
  {
   "cell_type": "code",
   "execution_count": 1,
   "id": "644bc46e",
   "metadata": {},
   "outputs": [],
   "source": [
    "import numpy as np\n",
    "import cv2"
   ]
  },
  {
   "cell_type": "code",
   "execution_count": 2,
   "id": "e4b67f18",
   "metadata": {},
   "outputs": [],
   "source": [
    "img = cv2.imread('./images/beach.jpg')\n",
    "\n",
    "cv2.imshow('beach',img)\n",
    "cv2.waitKey(0)\n",
    "cv2.destroyAllWindows()"
   ]
  },
  {
   "cell_type": "code",
   "execution_count": 5,
   "id": "88cd9e49",
   "metadata": {},
   "outputs": [
    {
     "data": {
      "text/plain": [
       "(629, 1000)"
      ]
     },
     "execution_count": 5,
     "metadata": {},
     "output_type": "execute_result"
    }
   ],
   "source": [
    "img.shape[:2]"
   ]
  },
  {
   "cell_type": "code",
   "execution_count": 6,
   "id": "3c5bb451",
   "metadata": {},
   "outputs": [],
   "source": [
    "mask = np.zeros(img.shape[:2],dtype='uint8')\n",
    "\n",
    "cv2.imshow('mask',mask)\n",
    "cv2.waitKey(0)\n",
    "cv2.destroyAllWindows()"
   ]
  },
  {
   "cell_type": "code",
   "execution_count": 9,
   "id": "0554424c",
   "metadata": {},
   "outputs": [],
   "source": [
    "cx,cy = mask.shape[1]//2, mask.shape[0]//2\n",
    "\n",
    "cv2.rectangle(mask,(cx-200,cy-200),(cx+200,cy+200),255,-1)\n",
    "\n",
    "cv2.imshow('mask',mask)\n",
    "cv2.waitKey(0)\n",
    "cv2.destroyAllWindows()"
   ]
  },
  {
   "cell_type": "code",
   "execution_count": 10,
   "id": "5bb1cb73",
   "metadata": {},
   "outputs": [],
   "source": [
    "img_mask = cv2.bitwise_and(img,img,mask=mask)\n",
    "\n",
    "cv2.imshow('original',img)\n",
    "cv2.imshow('masked image',img_mask)\n",
    "cv2.waitKey(0)\n",
    "cv2.destroyAllWindows()"
   ]
  },
  {
   "cell_type": "code",
   "execution_count": 11,
   "id": "0412bc3a",
   "metadata": {},
   "outputs": [],
   "source": [
    "mask_not = cv2.bitwise_not(mask)\n",
    "\n",
    "cv2.imshow('masknot',mask_not)\n",
    "cv2.waitKey(0)\n",
    "cv2.destroyAllWindows()"
   ]
  },
  {
   "cell_type": "code",
   "execution_count": 12,
   "id": "1628419d",
   "metadata": {},
   "outputs": [],
   "source": [
    "img_mask_not = cv2.bitwise_and(img,img,mask=mask_not)\n",
    "\n",
    "cv2.imshow('original',img)\n",
    "cv2.imshow('masked image not',img_mask_not)\n",
    "cv2.waitKey(0)\n",
    "cv2.destroyAllWindows()"
   ]
  },
  {
   "cell_type": "code",
   "execution_count": 13,
   "id": "dcbddc7a",
   "metadata": {},
   "outputs": [],
   "source": [
    "# circle\n",
    "mask_c = np.zeros(img.shape[:2],dtype='uint8')\n",
    "cx,cy = mask_c.shape[1]//2, mask_c.shape[0]//2\n",
    "\n",
    "cv2.circle(mask_c,(cx,cy),200,255,-1)\n",
    "cv2.imshow('circle',mask_c)\n",
    "cv2.waitKey(0)\n",
    "cv2.destroyAllWindows()"
   ]
  },
  {
   "cell_type": "code",
   "execution_count": 14,
   "id": "683c0009",
   "metadata": {},
   "outputs": [],
   "source": [
    "img_mask_circle = cv2.bitwise_and(img,img,mask=mask_c)\n",
    "\n",
    "cv2.imshow('original',img)\n",
    "cv2.imshow('masked image circle',img_mask_circle)\n",
    "cv2.waitKey(0)\n",
    "cv2.destroyAllWindows()"
   ]
  }
 ],
 "metadata": {
  "kernelspec": {
   "display_name": "Python 3 (ipykernel)",
   "language": "python",
   "name": "python3"
  },
  "language_info": {
   "codemirror_mode": {
    "name": "ipython",
    "version": 3
   },
   "file_extension": ".py",
   "mimetype": "text/x-python",
   "name": "python",
   "nbconvert_exporter": "python",
   "pygments_lexer": "ipython3",
   "version": "3.9.7"
  }
 },
 "nbformat": 4,
 "nbformat_minor": 5
}
