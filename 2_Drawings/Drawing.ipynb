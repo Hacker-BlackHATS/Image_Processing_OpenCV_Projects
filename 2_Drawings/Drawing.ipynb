{
 "cells": [
  {
   "cell_type": "markdown",
   "id": "6e06b69c",
   "metadata": {},
   "source": [
    "# Drawings"
   ]
  },
  {
   "cell_type": "markdown",
   "id": "40922555",
   "metadata": {},
   "source": [
    "## Drawing Line"
   ]
  },
  {
   "cell_type": "code",
   "execution_count": 1,
   "id": "8aa4d369",
   "metadata": {},
   "outputs": [],
   "source": [
    "import numpy as np\n",
    "import cv2"
   ]
  },
  {
   "cell_type": "code",
   "execution_count": 2,
   "id": "df6ba9ae",
   "metadata": {},
   "outputs": [],
   "source": [
    "canvas = np.zeros((300,300,3),dtype=\"uint8\") # defining our canvas to draw"
   ]
  },
  {
   "cell_type": "code",
   "execution_count": 3,
   "id": "2c4cc910",
   "metadata": {},
   "outputs": [],
   "source": [
    "def display(winname,image):\n",
    "    cv2.imshow(winname,image)\n",
    "    cv2.waitKey(0)\n",
    "    cv2.destroyAllWindows()"
   ]
  },
  {
   "cell_type": "code",
   "execution_count": 4,
   "id": "2f47b854",
   "metadata": {},
   "outputs": [],
   "source": [
    "display('canvas',canvas)"
   ]
  },
  {
   "cell_type": "code",
   "execution_count": 5,
   "id": "b769a433",
   "metadata": {},
   "outputs": [
    {
     "data": {
      "text/plain": [
       "True"
      ]
     },
     "execution_count": 5,
     "metadata": {},
     "output_type": "execute_result"
    }
   ],
   "source": [
    "cv2.imwrite('canvas.png',canvas)"
   ]
  },
  {
   "cell_type": "code",
   "execution_count": 6,
   "id": "239cf2d5",
   "metadata": {},
   "outputs": [],
   "source": [
    "green = (0,255,0)\n",
    "cv2.line(canvas,(0,0),(300,300),green)\n",
    "display('canvas',canvas)"
   ]
  },
  {
   "cell_type": "code",
   "execution_count": 7,
   "id": "cc76316e",
   "metadata": {},
   "outputs": [],
   "source": [
    "red = (0,0,255)\n",
    "cv2.line(canvas,(300,0),(0,300),red,3) # 3 is the thickness\n",
    "display('canvas', canvas)"
   ]
  },
  {
   "cell_type": "markdown",
   "id": "c73cb169",
   "metadata": {},
   "source": [
    "## Drawing Rectangle"
   ]
  },
  {
   "cell_type": "code",
   "execution_count": 9,
   "id": "a9bdb0e1",
   "metadata": {},
   "outputs": [],
   "source": [
    "cv2.rectangle(canvas,(10,10),(60,60),green) # (10, 10) and (60, 60) are the diagonal points we need to provide\n",
    "display('canvas',canvas)"
   ]
  },
  {
   "cell_type": "code",
   "execution_count": 10,
   "id": "5e2ad9b4",
   "metadata": {},
   "outputs": [],
   "source": [
    "cv2.rectangle(canvas,(50,200),(200,225),red,5)\n",
    "display('canvas',canvas)"
   ]
  },
  {
   "cell_type": "code",
   "execution_count": 11,
   "id": "e8f5f8ca",
   "metadata": {},
   "outputs": [],
   "source": [
    "blue = (255,0,0)\n",
    "cv2.rectangle(canvas,(200,50),(225,200),blue,-1) # -1 in thickness means i want to fill all the gaps in the rectangle\n",
    "display('canvas',canvas)"
   ]
  },
  {
   "cell_type": "markdown",
   "id": "02e89f66",
   "metadata": {},
   "source": [
    "## Drawing Circle"
   ]
  },
  {
   "cell_type": "code",
   "execution_count": 12,
   "id": "a6836c98",
   "metadata": {},
   "outputs": [],
   "source": [
    "canvas = np.zeros((300,300,3),dtype='uint8')\n",
    "# Height of the image = canvas.shape[0]\n",
    "# Width of the image = canvas.shape[1]"
   ]
  },
  {
   "cell_type": "code",
   "execution_count": 13,
   "id": "b52ecd00",
   "metadata": {},
   "outputs": [],
   "source": [
    "centerx, centery = (canvas.shape[1] //2 , canvas.shape[0] // 2) # center (x, y)\n",
    "white = (255,255,255)\n",
    "\n",
    "for r in range(0,175,25):\n",
    "    cv2.circle(canvas,(centerx,centery),r,white) # r is the radius of the circle\n",
    "\n",
    "display('circles',canvas)"
   ]
  },
  {
   "cell_type": "markdown",
   "id": "ccee7d77",
   "metadata": {},
   "source": [
    "## Abstract Drawing"
   ]
  },
  {
   "cell_type": "code",
   "execution_count": 15,
   "id": "7920fc76",
   "metadata": {},
   "outputs": [],
   "source": [
    "for i in range(0,25):\n",
    "    radius = np.random.randint(5,200)\n",
    "    color = np.random.randint(0,256,size=(3,)).tolist()\n",
    "    pt = np.random.randint(0,300,size=(2,))\n",
    "    \n",
    "    cv2.circle(canvas,tuple(pt),radius,color,-1)\n",
    "    \n",
    "display('canvas',canvas)"
   ]
  },
  {
   "cell_type": "code",
   "execution_count": 16,
   "id": "43ad44f5",
   "metadata": {},
   "outputs": [
    {
     "data": {
      "text/plain": [
       "True"
      ]
     },
     "execution_count": 16,
     "metadata": {},
     "output_type": "execute_result"
    }
   ],
   "source": [
    "cv2.imwrite('canvas.png',canvas)"
   ]
  }
 ],
 "metadata": {
  "kernelspec": {
   "display_name": "Python 3 (ipykernel)",
   "language": "python",
   "name": "python3"
  },
  "language_info": {
   "codemirror_mode": {
    "name": "ipython",
    "version": 3
   },
   "file_extension": ".py",
   "mimetype": "text/x-python",
   "name": "python",
   "nbconvert_exporter": "python",
   "pygments_lexer": "ipython3",
   "version": "3.9.7"
  }
 },
 "nbformat": 4,
 "nbformat_minor": 5
}
