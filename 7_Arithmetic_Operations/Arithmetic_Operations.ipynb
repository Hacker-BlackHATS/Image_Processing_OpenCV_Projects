{
 "cells": [
  {
   "cell_type": "markdown",
   "id": "e9636ff3",
   "metadata": {},
   "source": [
    "# Arithmetic Operations"
   ]
  },
  {
   "cell_type": "code",
   "execution_count": 1,
   "id": "d2b0a101",
   "metadata": {},
   "outputs": [],
   "source": [
    "import numpy as np\n",
    "import cv2"
   ]
  },
  {
   "cell_type": "code",
   "execution_count": 2,
   "id": "ac130871",
   "metadata": {},
   "outputs": [],
   "source": [
    "img = cv2.imread('./images/car.jpg')"
   ]
  },
  {
   "cell_type": "code",
   "execution_count": 3,
   "id": "e26d9523",
   "metadata": {},
   "outputs": [],
   "source": [
    "cv2.imshow('original',img)\n",
    "cv2.waitKey(0)\n",
    "cv2.destroyAllWindows()"
   ]
  },
  {
   "cell_type": "markdown",
   "id": "444a6f3f",
   "metadata": {},
   "source": [
    "## Addition"
   ]
  },
  {
   "cell_type": "markdown",
   "id": "5bf1265c",
   "metadata": {},
   "source": [
    "It will increase the brightness of the image."
   ]
  },
  {
   "cell_type": "code",
   "execution_count": 25,
   "id": "2b77d41f",
   "metadata": {},
   "outputs": [],
   "source": [
    "value = np.ones_like(img,dtype='uint8')*50"
   ]
  },
  {
   "cell_type": "code",
   "execution_count": 26,
   "id": "0b5a9fa4",
   "metadata": {},
   "outputs": [],
   "source": [
    "cv2.imshow('value',value)\n",
    "cv2.waitKey(0)\n",
    "cv2.destroyAllWindows()"
   ]
  },
  {
   "cell_type": "code",
   "execution_count": 27,
   "id": "30bc96d2",
   "metadata": {},
   "outputs": [],
   "source": [
    "img_add = cv2.add(img,value)"
   ]
  },
  {
   "cell_type": "code",
   "execution_count": 28,
   "id": "cb7de628",
   "metadata": {},
   "outputs": [],
   "source": [
    "cv2.imshow('original',img)\n",
    "cv2.imshow('addition',img_add)\n",
    "cv2.waitKey(0)\n",
    "cv2.destroyAllWindows()"
   ]
  },
  {
   "cell_type": "markdown",
   "id": "3290e2c2",
   "metadata": {},
   "source": [
    "## Subtraction"
   ]
  },
  {
   "cell_type": "markdown",
   "id": "56913a4b",
   "metadata": {},
   "source": [
    "It will decrease the brightness of the image."
   ]
  },
  {
   "cell_type": "code",
   "execution_count": 29,
   "id": "706565d2",
   "metadata": {},
   "outputs": [],
   "source": [
    "value = np.ones_like(img,dtype='uint8')*75"
   ]
  },
  {
   "cell_type": "code",
   "execution_count": 30,
   "id": "7621972e",
   "metadata": {},
   "outputs": [],
   "source": [
    "img_sub = cv2.subtract(img,value)"
   ]
  },
  {
   "cell_type": "code",
   "execution_count": 31,
   "id": "c6282ca2",
   "metadata": {},
   "outputs": [],
   "source": [
    "cv2.imshow('original',img)\n",
    "cv2.imshow('subtrated',img_sub)\n",
    "cv2.waitKey(0)\n",
    "cv2.destroyAllWindows()"
   ]
  },
  {
   "cell_type": "markdown",
   "id": "5f5b9944",
   "metadata": {},
   "source": [
    "## Blending Image"
   ]
  },
  {
   "cell_type": "code",
   "execution_count": 14,
   "id": "9faf1ba2",
   "metadata": {},
   "outputs": [],
   "source": [
    "img1 = cv2.imread('./images/blend_1.jpg')\n",
    "img2 = cv2.imread('./images/blend_2.jpg')"
   ]
  },
  {
   "cell_type": "code",
   "execution_count": 15,
   "id": "9067af8b",
   "metadata": {},
   "outputs": [],
   "source": [
    "blend = cv2.addWeighted(img1,0.5,img2,0.5,40)"
   ]
  },
  {
   "cell_type": "code",
   "execution_count": 16,
   "id": "bfad8ebe",
   "metadata": {},
   "outputs": [],
   "source": [
    "cv2.imshow('blend image',blend)\n",
    "cv2.waitKey(0)\n",
    "cv2.destroyAllWindows()"
   ]
  },
  {
   "cell_type": "code",
   "execution_count": 17,
   "id": "9ddfac49",
   "metadata": {},
   "outputs": [
    {
     "data": {
      "text/plain": [
       "True"
      ]
     },
     "execution_count": 17,
     "metadata": {},
     "output_type": "execute_result"
    }
   ],
   "source": [
    "cv2.imwrite('./images/blending.jpg',blend)"
   ]
  }
 ],
 "metadata": {
  "kernelspec": {
   "display_name": "Python 3 (ipykernel)",
   "language": "python",
   "name": "python3"
  },
  "language_info": {
   "codemirror_mode": {
    "name": "ipython",
    "version": 3
   },
   "file_extension": ".py",
   "mimetype": "text/x-python",
   "name": "python",
   "nbconvert_exporter": "python",
   "pygments_lexer": "ipython3",
   "version": "3.9.7"
  }
 },
 "nbformat": 4,
 "nbformat_minor": 5
}
