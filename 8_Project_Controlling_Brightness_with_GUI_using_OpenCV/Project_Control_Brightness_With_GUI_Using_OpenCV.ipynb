{
 "cells": [
  {
   "cell_type": "markdown",
   "id": "8ee92b1d",
   "metadata": {},
   "source": [
    "# Control Brightness of Image"
   ]
  },
  {
   "cell_type": "code",
   "execution_count": 1,
   "id": "db1e32eb",
   "metadata": {},
   "outputs": [],
   "source": [
    "import numpy as np\n",
    "import cv2"
   ]
  },
  {
   "cell_type": "code",
   "execution_count": 2,
   "id": "e0c2ff39",
   "metadata": {},
   "outputs": [],
   "source": [
    "img = cv2.imread('./images/car.jpg')\n",
    "cv2.imshow('car',img)\n",
    "cv2.waitKey(0)\n",
    "cv2.destroyAllWindows()"
   ]
  },
  {
   "cell_type": "code",
   "execution_count": 4,
   "id": "43a7013b",
   "metadata": {},
   "outputs": [],
   "source": [
    "def nothing(x):\n",
    "    pass\n",
    "\n",
    "cv2.namedWindow('Brightness Control')\n",
    "bright = cv2.createTrackbar('Brightness','Brightness Control',75,255,nothing)\n",
    "value = np.ones_like(img,dtype='uint8')\n",
    "\n",
    "\n",
    "while True:\n",
    "    bright = cv2.getTrackbarPos('Brightness','Brightness Control')\n",
    "    bar = bright - 127\n",
    "    \n",
    "    if bar >=0:\n",
    "        value = np.ones_like(img,dtype='uint8')*bar\n",
    "        img_ctrl = cv2.add(img,value)\n",
    "        \n",
    "    else:\n",
    "        bright = 127 - bright\n",
    "        value = np.ones_like(img,dtype='uint8')*bright\n",
    "        img_ctrl = cv2.subtract(img,value)\n",
    "\n",
    "        \n",
    "    cv2.imshow('Brightness Control',img_ctrl)\n",
    "    \n",
    "    if cv2.waitKey(1) == 27: # esc button\n",
    "        break\n",
    "        \n",
    "        \n",
    "cv2.destroyAllWindows()"
   ]
  },
  {
   "cell_type": "markdown",
   "id": "fa02b0b0",
   "metadata": {},
   "source": [
    "## Real Time Brightness Control"
   ]
  },
  {
   "cell_type": "code",
   "execution_count": 5,
   "id": "a4cdf7d5",
   "metadata": {},
   "outputs": [],
   "source": [
    "def brightness_ctrl(image,bright):\n",
    "    bar = bright - 127\n",
    "    \n",
    "    if bar >=0:\n",
    "        value = np.ones_like(image,dtype='uint8')*bar\n",
    "        img_ctrl = cv2.add(image,value)\n",
    "        \n",
    "    else:\n",
    "        bright = 127 - bright\n",
    "        value = np.ones_like(image,dtype='uint8')*bright\n",
    "        img_ctrl = cv2.subtract(image,value)\n",
    "        \n",
    "    return img_ctrl"
   ]
  },
  {
   "cell_type": "code",
   "execution_count": 6,
   "id": "fe794528",
   "metadata": {},
   "outputs": [],
   "source": [
    "cap = cv2.VideoCapture('./images/clip.mp4')\n",
    "cv2.namedWindow('Brightness Control')\n",
    "bright = cv2.createTrackbar('Brightness','Brightness Control',75,255,nothing)\n",
    "value = np.ones_like(img,dtype='uint8')\n",
    "\n",
    "while True:\n",
    "    ret, frame = cap.read()\n",
    "    if ret == False:\n",
    "        break\n",
    "        \n",
    "    bright = cv2.getTrackbarPos('Brightness','Brightness Control')\n",
    "    img_ctrl = brightness_ctrl(frame,bright)\n",
    "    \n",
    "    cv2.imshow('Brightness Control',img_ctrl)\n",
    "    if cv2.waitKey(20) == 27:\n",
    "        break\n",
    "        \n",
    "cv2.destroyAllWindows()\n",
    "cap.release()"
   ]
  }
 ],
 "metadata": {
  "kernelspec": {
   "display_name": "Python 3 (ipykernel)",
   "language": "python",
   "name": "python3"
  },
  "language_info": {
   "codemirror_mode": {
    "name": "ipython",
    "version": 3
   },
   "file_extension": ".py",
   "mimetype": "text/x-python",
   "name": "python",
   "nbconvert_exporter": "python",
   "pygments_lexer": "ipython3",
   "version": "3.9.7"
  }
 },
 "nbformat": 4,
 "nbformat_minor": 5
}
