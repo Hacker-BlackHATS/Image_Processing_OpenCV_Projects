{
 "cells": [
  {
   "cell_type": "markdown",
   "id": "11a890e8",
   "metadata": {},
   "source": [
    "# Smoothing Filter"
   ]
  },
  {
   "cell_type": "code",
   "execution_count": 1,
   "id": "c6e64a15",
   "metadata": {},
   "outputs": [],
   "source": [
    "import numpy as np\n",
    "import cv2"
   ]
  },
  {
   "cell_type": "code",
   "execution_count": 2,
   "id": "b8582372",
   "metadata": {},
   "outputs": [],
   "source": [
    "img = cv2.imread('./images/beach.jpg')\n",
    "\n",
    "cv2.imshow('beach',img)\n",
    "cv2.waitKey(0)\n",
    "cv2.destroyAllWindows()"
   ]
  },
  {
   "cell_type": "markdown",
   "id": "0265aad1",
   "metadata": {},
   "source": [
    "## Average Blur"
   ]
  },
  {
   "cell_type": "code",
   "execution_count": 3,
   "id": "addbe8b0",
   "metadata": {},
   "outputs": [],
   "source": [
    "blur_avg3 = cv2.blur(img,(3,3))\n",
    "blur_avg5 = cv2.blur(img,(5,5))\n",
    "blur_avg7 = cv2.blur(img,(7,7))\n",
    "blur_avg9 = cv2.blur(img,(9,9))"
   ]
  },
  {
   "cell_type": "code",
   "execution_count": 4,
   "id": "85e22af1",
   "metadata": {},
   "outputs": [],
   "source": [
    "cv2.imshow('original image',img)\n",
    "cv2.imshow('blur 3',blur_avg3)\n",
    "cv2.imshow('blur 5',blur_avg5)\n",
    "cv2.imshow('blur 7',blur_avg7)\n",
    "cv2.imshow('blur 9',blur_avg9)\n",
    "\n",
    "cv2.waitKey(0)\n",
    "cv2.destroyAllWindows()"
   ]
  },
  {
   "cell_type": "markdown",
   "id": "6e83b23c",
   "metadata": {},
   "source": [
    "## Gaussian Blur"
   ]
  },
  {
   "cell_type": "code",
   "execution_count": 11,
   "id": "6b509759",
   "metadata": {},
   "outputs": [],
   "source": [
    "blur_gauss_3 = cv2.GaussianBlur(img,(3,3),0)\n",
    "blur_gauss_5 = cv2.GaussianBlur(img,(5,5),0)\n",
    "blur_gauss_7 = cv2.GaussianBlur(img,(7,7),0)\n",
    "blur_gauss_9 = cv2.GaussianBlur(img,(9,9),0)"
   ]
  },
  {
   "cell_type": "code",
   "execution_count": 12,
   "id": "365ef379",
   "metadata": {},
   "outputs": [],
   "source": [
    "cv2.imshow('original',img)\n",
    "cv2.imshow('blur 3',blur_gauss_3)\n",
    "cv2.imshow('blur 5',blur_gauss_5)\n",
    "cv2.imshow('blur 7',blur_gauss_7)\n",
    "cv2.imshow('blur 9',blur_gauss_9)\n",
    "\n",
    "cv2.waitKey(0)\n",
    "cv2.destroyAllWindows()"
   ]
  },
  {
   "cell_type": "markdown",
   "id": "dcce9602",
   "metadata": {},
   "source": [
    "## Median Blur"
   ]
  },
  {
   "cell_type": "code",
   "execution_count": 13,
   "id": "d5b5e658",
   "metadata": {},
   "outputs": [],
   "source": [
    "sp = cv2.imread('./images/sp_noise.jpg')\n",
    "\n",
    "cv2.imshow('salt pepper',sp)\n",
    "cv2.waitKey(0)\n",
    "cv2.destroyAllWindows()"
   ]
  },
  {
   "cell_type": "code",
   "execution_count": 14,
   "id": "ba4b4030",
   "metadata": {},
   "outputs": [],
   "source": [
    "blur_median_3 = cv2.medianBlur(sp,3)"
   ]
  },
  {
   "cell_type": "code",
   "execution_count": 15,
   "id": "4293fc2a",
   "metadata": {},
   "outputs": [],
   "source": [
    "cv2.imshow('original',sp)\n",
    "cv2.imshow('median blur',blur_median_3)\n",
    "\n",
    "cv2.waitKey(0)\n",
    "cv2.destroyAllWindows()"
   ]
  },
  {
   "cell_type": "code",
   "execution_count": 16,
   "id": "52609e9b",
   "metadata": {},
   "outputs": [],
   "source": [
    "blur_median_5 = cv2.medianBlur(sp,5)\n",
    "blur_median_7 = cv2.medianBlur(sp,7)"
   ]
  },
  {
   "cell_type": "code",
   "execution_count": 17,
   "id": "e8aa8c81",
   "metadata": {},
   "outputs": [],
   "source": [
    "cv2.imshow('original',sp)\n",
    "cv2.imshow('median blur3',blur_median_3)\n",
    "cv2.imshow('median blur5',blur_median_5)\n",
    "cv2.imshow('median blur7',blur_median_7)\n",
    "\n",
    "cv2.waitKey(0)\n",
    "cv2.destroyAllWindows()"
   ]
  }
 ],
 "metadata": {
  "kernelspec": {
   "display_name": "Python 3 (ipykernel)",
   "language": "python",
   "name": "python3"
  },
  "language_info": {
   "codemirror_mode": {
    "name": "ipython",
    "version": 3
   },
   "file_extension": ".py",
   "mimetype": "text/x-python",
   "name": "python",
   "nbconvert_exporter": "python",
   "pygments_lexer": "ipython3",
   "version": "3.9.7"
  }
 },
 "nbformat": 4,
 "nbformat_minor": 5
}
