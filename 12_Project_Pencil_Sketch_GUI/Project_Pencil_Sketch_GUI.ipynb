{
 "cells": [
  {
   "cell_type": "markdown",
   "id": "e3f48f4b",
   "metadata": {},
   "source": [
    "# Pencil Sketch GUI"
   ]
  },
  {
   "cell_type": "code",
   "execution_count": 1,
   "id": "464c4aa3",
   "metadata": {},
   "outputs": [],
   "source": [
    "import numpy as np\n",
    "import cv2"
   ]
  },
  {
   "cell_type": "code",
   "execution_count": 2,
   "id": "04a4171f",
   "metadata": {},
   "outputs": [],
   "source": [
    "# load the image\n",
    "img = cv2.imread('./images/friends.jpg')\n",
    "\n",
    "cv2.imshow('original',img)\n",
    "cv2.waitKey()\n",
    "cv2.destroyAllWindows()"
   ]
  },
  {
   "cell_type": "markdown",
   "id": "547515f6",
   "metadata": {},
   "source": [
    "![image](images/pencil_sketch_flow.PNG)"
   ]
  },
  {
   "cell_type": "code",
   "execution_count": 3,
   "id": "80b3da10",
   "metadata": {},
   "outputs": [],
   "source": [
    "# step-1 convert image into grayscale\n",
    "gray = cv2.cvtColor(img,cv2.COLOR_BGR2GRAY)"
   ]
  },
  {
   "cell_type": "code",
   "execution_count": 4,
   "id": "2b592b92",
   "metadata": {},
   "outputs": [],
   "source": [
    "cv2.imshow('BGR',img)\n",
    "cv2.imshow('Gray',gray)\n",
    "\n",
    "cv2.waitKey(0)\n",
    "cv2.destroyAllWindows()"
   ]
  },
  {
   "cell_type": "code",
   "execution_count": 5,
   "id": "898694fc",
   "metadata": {},
   "outputs": [],
   "source": [
    "# step-2: apply gaussian blur to the image\n",
    "blur = cv2.GaussianBlur(gray,(5,5),0)"
   ]
  },
  {
   "cell_type": "code",
   "execution_count": 6,
   "id": "733e34bf",
   "metadata": {},
   "outputs": [],
   "source": [
    "cv2.imshow('BGR',img)\n",
    "cv2.imshow('Gray',gray)\n",
    "cv2.imshow('Blur',blur)\n",
    "\n",
    "cv2.waitKey(0)\n",
    "cv2.destroyAllWindows()"
   ]
  },
  {
   "cell_type": "code",
   "execution_count": 7,
   "id": "50198c30",
   "metadata": {},
   "outputs": [],
   "source": [
    "# step-3: division image\n",
    "division_img = cv2.divide(gray,blur,scale=256) # (Numerator, Denominator, scale)"
   ]
  },
  {
   "cell_type": "code",
   "execution_count": 8,
   "id": "470babba",
   "metadata": {},
   "outputs": [],
   "source": [
    "cv2.imshow('BGR',img)\n",
    "cv2.imshow('Gray',gray)\n",
    "cv2.imshow('Blur',blur)\n",
    "cv2.imshow('Division',division_img)\n",
    "\n",
    "cv2.waitKey(0)\n",
    "cv2.destroyAllWindows()"
   ]
  },
  {
   "cell_type": "code",
   "execution_count": 9,
   "id": "e6361258",
   "metadata": {},
   "outputs": [],
   "source": [
    "# step-4: adjusting gamma factor\n",
    "gamma = 0.1\n",
    "if gamma == 0:\n",
    "    gamma = 0.01\n",
    "invgamma = 1/gamma"
   ]
  },
  {
   "cell_type": "code",
   "execution_count": 10,
   "id": "089329e1",
   "metadata": {},
   "outputs": [],
   "source": [
    "# Creating Look-Up Table\n",
    "lut = np.array([((i/255)**invgamma)*255 for i in range(0,256)])\n",
    "\n",
    "# Applying Look-Up Table to division image\n",
    "pencil_sketch_img = cv2.LUT(division_img.astype('uint8'),lut.astype('uint8'))"
   ]
  },
  {
   "cell_type": "code",
   "execution_count": 11,
   "id": "1a75b373",
   "metadata": {},
   "outputs": [],
   "source": [
    "cv2.imshow('BGR',img)\n",
    "cv2.imshow('Gray',gray)\n",
    "cv2.imshow('Blur',blur)\n",
    "cv2.imshow('Division',division_img)\n",
    "cv2.imshow('Pencil Sketch',pencil_sketch_img)\n",
    "\n",
    "cv2.waitKey(0)\n",
    "cv2.destroyAllWindows()"
   ]
  },
  {
   "cell_type": "code",
   "execution_count": 12,
   "id": "b38353cc",
   "metadata": {},
   "outputs": [],
   "source": [
    "def pencil_sketch(img,ksize,gamma):\n",
    "    # step-1 convert image into grayscale\n",
    "    gray = cv2.cvtColor(img,cv2.COLOR_BGR2GRAY)\n",
    "    # step-2: apply gaussian blur to the image\n",
    "    blur = cv2.GaussianBlur(gray,(ksize,ksize),0)\n",
    "    # step-3: division image\n",
    "    division_img = cv2.divide(gray,blur,scale=256)\n",
    "    # step-4: adjusting gamma factor\n",
    "    if gamma == 0:\n",
    "        gamma = 0.01\n",
    "        \n",
    "    elif gamma < 0:\n",
    "        raise Exception('Cannot Be Negative','Gamma value cannot be negative number (range = 0-1)')\n",
    "        \n",
    "    elif gamma > 1:\n",
    "        raise Exception('Cannot be greater than 1','Gamma value cannot greater than 1 (range = 0-1)')\n",
    "\n",
    "    invgamma = 1/gamma\n",
    "    lut = np.array([((i/255)**invgamma)*255 for i in range(0,256)])\n",
    "    pencil_sketch_img = cv2.LUT(division_img.astype('uint8'),\n",
    "                                lut.astype('uint8'))\n",
    "    \n",
    "    return pencil_sketch_img"
   ]
  },
  {
   "cell_type": "code",
   "execution_count": 13,
   "id": "180d66b0",
   "metadata": {},
   "outputs": [],
   "source": [
    "pencil_img = pencil_sketch(img,7,0.3)"
   ]
  },
  {
   "cell_type": "code",
   "execution_count": 14,
   "id": "8c166eca",
   "metadata": {},
   "outputs": [],
   "source": [
    "cv2.imshow('orignial',img)\n",
    "cv2.imshow('Pencil Sketch',pencil_img)\n",
    "\n",
    "cv2.waitKey()\n",
    "cv2.destroyAllWindows()"
   ]
  },
  {
   "cell_type": "markdown",
   "id": "e27f9a55",
   "metadata": {},
   "source": [
    "## GUI for Pencil Sketch"
   ]
  },
  {
   "cell_type": "code",
   "execution_count": 15,
   "id": "0155cd49",
   "metadata": {},
   "outputs": [],
   "source": [
    "image = cv2.imread('./images/Avengers-Endgame.png')\n",
    "\n",
    "# create control pannel\n",
    "cv2.namedWindow('Control Pannel')\n",
    "cv2.createTrackbar('ksize','Control Pannel',1,100,(lambda x:None))\n",
    "cv2.createTrackbar('gamma','Control Pannel',1,100,(lambda x:None))\n",
    "\n",
    "while True:\n",
    "    \n",
    "    # take k-size\n",
    "    k = cv2.getTrackbarPos('ksize','Control Pannel')\n",
    "    # k size should be an odd number\n",
    "    k = 2*k + 1\n",
    "    # calibrate gamma to 0 - 1 scale\n",
    "    g = cv2.getTrackbarPos('gamma','Control Pannel')\n",
    "    g = g/100\n",
    "    pencil_img = pencil_sketch(image,k,g)\n",
    "    \n",
    "    \n",
    "    cv2.imshow('original',image)\n",
    "    cv2.imshow('Pencil Sketch',pencil_img)\n",
    "    if cv2.waitKey(1) == 27:\n",
    "        break\n",
    "\n",
    "cv2.destroyAllWindows()"
   ]
  },
  {
   "cell_type": "markdown",
   "id": "1fced818",
   "metadata": {},
   "source": [
    "## Real Time Pencil Sketch GUI For Video"
   ]
  },
  {
   "cell_type": "code",
   "execution_count": 16,
   "id": "ee45f6b1",
   "metadata": {},
   "outputs": [],
   "source": [
    "cap0 = cv2.VideoCapture(0)\n",
    "\n",
    "# create control pannel\n",
    "cv2.namedWindow('Control Pannel')\n",
    "cv2.createTrackbar('ksize','Control Pannel',1,100,(lambda x:None))\n",
    "cv2.createTrackbar('gamma','Control Pannel',1,100,(lambda x:None))\n",
    "\n",
    "while True:\n",
    "    ret, frame = cap0.read()\n",
    "    # take k-size\n",
    "    k = cv2.getTrackbarPos('ksize','Control Pannel')\n",
    "    \n",
    "    # k size should be an odd number\n",
    "    k = 2*k + 1\n",
    "    \n",
    "    # calibrate gamma to 0 - 1 scale\n",
    "    g = cv2.getTrackbarPos('gamma','Control Pannel')\n",
    "    g = g/100\n",
    "    \n",
    "    pencil_frame = pencil_sketch(frame,k,g)\n",
    "\n",
    "    if ret == False:\n",
    "        break\n",
    "    if cv2.waitKey(1) == 27:\n",
    "        break\n",
    "    cv2.imshow('LIVE', frame)\n",
    "    cv2.imshow('LIVE Sketch', pencil_frame)\n",
    "\n",
    "cap0.release()\n",
    "cv2.destroyAllWindows()"
   ]
  }
 ],
 "metadata": {
  "kernelspec": {
   "display_name": "Python 3 (ipykernel)",
   "language": "python",
   "name": "python3"
  },
  "language_info": {
   "codemirror_mode": {
    "name": "ipython",
    "version": 3
   },
   "file_extension": ".py",
   "mimetype": "text/x-python",
   "name": "python",
   "nbconvert_exporter": "python",
   "pygments_lexer": "ipython3",
   "version": "3.9.7"
  }
 },
 "nbformat": 4,
 "nbformat_minor": 5
}
