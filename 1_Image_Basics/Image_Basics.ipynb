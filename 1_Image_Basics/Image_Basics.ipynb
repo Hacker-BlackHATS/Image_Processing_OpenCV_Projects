{
 "cells": [
  {
   "cell_type": "code",
   "execution_count": 31,
   "metadata": {
    "colab": {
     "base_uri": "https://localhost:8080/"
    },
    "executionInfo": {
     "elapsed": 29881,
     "status": "ok",
     "timestamp": 1641921846467,
     "user": {
      "displayName": "HIMANSHU RANA",
      "photoUrl": "https://lh3.googleusercontent.com/a-/AOh14GjjkC1wXjPyF96d4AJ0A-ejLP-jcpcSnnrkAirNHw=s64",
      "userId": "01216211630320060028"
     },
     "user_tz": -330
    },
    "id": "S-aILnHIJtoy",
    "outputId": "d6f0d1f7-79e9-4c0a-c7c5-30c20831ad26"
   },
   "outputs": [],
   "source": [
    "# from google.colab import drive\n",
    "# import os\n",
    "# drive.mount('/content/drive/')\n",
    "# os.chdir('/content/drive/My Drive/Colab Notebooks/Other_Files/')"
   ]
  },
  {
   "cell_type": "markdown",
   "metadata": {
    "id": "0hH3Jn0fIc2Q"
   },
   "source": [
    "# Load, Display, Save"
   ]
  },
  {
   "cell_type": "code",
   "execution_count": 2,
   "metadata": {
    "executionInfo": {
     "elapsed": 687,
     "status": "ok",
     "timestamp": 1641921863521,
     "user": {
      "displayName": "HIMANSHU RANA",
      "photoUrl": "https://lh3.googleusercontent.com/a-/AOh14GjjkC1wXjPyF96d4AJ0A-ejLP-jcpcSnnrkAirNHw=s64",
      "userId": "01216211630320060028"
     },
     "user_tz": -330
    },
    "id": "Hr28E2LHINFo"
   },
   "outputs": [],
   "source": [
    "import numpy as np\n",
    "import cv2"
   ]
  },
  {
   "cell_type": "markdown",
   "metadata": {
    "id": "kuDxJeI-Muv6"
   },
   "source": [
    "## Load an image"
   ]
  },
  {
   "cell_type": "code",
   "execution_count": 33,
   "metadata": {
    "executionInfo": {
     "elapsed": 1402,
     "status": "ok",
     "timestamp": 1641921889621,
     "user": {
      "displayName": "HIMANSHU RANA",
      "photoUrl": "https://lh3.googleusercontent.com/a-/AOh14GjjkC1wXjPyF96d4AJ0A-ejLP-jcpcSnnrkAirNHw=s64",
      "userId": "01216211630320060028"
     },
     "user_tz": -330
    },
    "id": "uXrY8jhhIhE-"
   },
   "outputs": [],
   "source": [
    "img1 = cv2.imread('./images/flemingo.jpg')"
   ]
  },
  {
   "cell_type": "code",
   "execution_count": 34,
   "metadata": {
    "colab": {
     "base_uri": "https://localhost:8080/"
    },
    "executionInfo": {
     "elapsed": 551,
     "status": "ok",
     "timestamp": 1641921904838,
     "user": {
      "displayName": "HIMANSHU RANA",
      "photoUrl": "https://lh3.googleusercontent.com/a-/AOh14GjjkC1wXjPyF96d4AJ0A-ejLP-jcpcSnnrkAirNHw=s64",
      "userId": "01216211630320060028"
     },
     "user_tz": -330
    },
    "id": "2Hkveiv8K862",
    "outputId": "12919bca-30a1-484b-a115-f8dc62638e52",
    "scrolled": true
   },
   "outputs": [
    {
     "name": "stdout",
     "output_type": "stream",
     "text": [
      "[[[188 163 119]\n",
      "  [189 164 120]\n",
      "  [189 164 120]\n",
      "  ...\n",
      "  [188 163 119]\n",
      "  [188 163 119]\n",
      "  [188 163 119]]\n",
      "\n",
      " [[188 163 119]\n",
      "  [189 164 120]\n",
      "  [189 164 120]\n",
      "  ...\n",
      "  [188 163 119]\n",
      "  [188 163 119]\n",
      "  [188 163 119]]\n",
      "\n",
      " [[188 163 119]\n",
      "  [189 164 120]\n",
      "  [189 164 120]\n",
      "  ...\n",
      "  [188 163 119]\n",
      "  [188 163 119]\n",
      "  [188 163 119]]\n",
      "\n",
      " ...\n",
      "\n",
      " [[167 134  88]\n",
      "  [167 134  88]\n",
      "  [167 134  88]\n",
      "  ...\n",
      "  [177 144  98]\n",
      "  [177 144  98]\n",
      "  [177 144  98]]\n",
      "\n",
      " [[171 141  94]\n",
      "  [171 141  94]\n",
      "  [172 142  95]\n",
      "  ...\n",
      "  [177 144  98]\n",
      "  [177 144  98]\n",
      "  [177 144  98]]\n",
      "\n",
      " [[177 147 100]\n",
      "  [177 147 100]\n",
      "  [178 148 101]\n",
      "  ...\n",
      "  [177 144  98]\n",
      "  [177 144  98]\n",
      "  [177 144  98]]]\n"
     ]
    }
   ],
   "source": [
    "print(img1)"
   ]
  },
  {
   "cell_type": "code",
   "execution_count": 35,
   "metadata": {
    "colab": {
     "base_uri": "https://localhost:8080/"
    },
    "executionInfo": {
     "elapsed": 1757,
     "status": "ok",
     "timestamp": 1641921929507,
     "user": {
      "displayName": "HIMANSHU RANA",
      "photoUrl": "https://lh3.googleusercontent.com/a-/AOh14GjjkC1wXjPyF96d4AJ0A-ejLP-jcpcSnnrkAirNHw=s64",
      "userId": "01216211630320060028"
     },
     "user_tz": -330
    },
    "id": "hoD2HjbwK_qC",
    "outputId": "f7179326-a6b0-42c9-c53d-420f28e670fd"
   },
   "outputs": [
    {
     "data": {
      "text/plain": [
       "(640, 640, 3)"
      ]
     },
     "execution_count": 35,
     "metadata": {},
     "output_type": "execute_result"
    }
   ],
   "source": [
    "img1.shape"
   ]
  },
  {
   "cell_type": "markdown",
   "metadata": {
    "id": "qcuY7fwlNEMD"
   },
   "source": [
    "## Display an image"
   ]
  },
  {
   "cell_type": "code",
   "execution_count": 36,
   "metadata": {
    "id": "qumX_F4JLEkg"
   },
   "outputs": [],
   "source": [
    "cv2.imshow('example',img1)\n",
    "cv2.waitKey(10000) # millseconds\n",
    "cv2.destroyAllWindows()"
   ]
  },
  {
   "cell_type": "code",
   "execution_count": 37,
   "metadata": {
    "id": "n-tNpu9DLv06"
   },
   "outputs": [],
   "source": [
    "cv2.imshow('example',img1)\n",
    "cv2.waitKey(0) # 0 is the special value that means \"forever\"\n",
    "cv2.destroyAllWindows()"
   ]
  },
  {
   "cell_type": "markdown",
   "metadata": {
    "id": "9JeXwfKzL7tJ"
   },
   "source": [
    "## Save an image"
   ]
  },
  {
   "cell_type": "code",
   "execution_count": 43,
   "metadata": {
    "colab": {
     "base_uri": "https://localhost:8080/"
    },
    "executionInfo": {
     "elapsed": 552,
     "status": "ok",
     "timestamp": 1641922190511,
     "user": {
      "displayName": "HIMANSHU RANA",
      "photoUrl": "https://lh3.googleusercontent.com/a-/AOh14GjjkC1wXjPyF96d4AJ0A-ejLP-jcpcSnnrkAirNHw=s64",
      "userId": "01216211630320060028"
     },
     "user_tz": -330
    },
    "id": "ADrahQKGL37m",
    "outputId": "93929412-d71e-421e-d0ce-cfe1f31498fb"
   },
   "outputs": [
    {
     "data": {
      "text/plain": [
       "True"
      ]
     },
     "execution_count": 43,
     "metadata": {},
     "output_type": "execute_result"
    }
   ],
   "source": [
    "cv2.imwrite('./images/example.png',img1)"
   ]
  },
  {
   "cell_type": "markdown",
   "metadata": {
    "id": "SsVyA24gOmAC"
   },
   "source": [
    "# Convert Color"
   ]
  },
  {
   "cell_type": "markdown",
   "metadata": {
    "id": "coYgVLS4Mb6M"
   },
   "source": [
    "## Color Space"
   ]
  },
  {
   "cell_type": "code",
   "execution_count": 39,
   "metadata": {
    "executionInfo": {
     "elapsed": 639,
     "status": "ok",
     "timestamp": 1641922608100,
     "user": {
      "displayName": "HIMANSHU RANA",
      "photoUrl": "https://lh3.googleusercontent.com/a-/AOh14GjjkC1wXjPyF96d4AJ0A-ejLP-jcpcSnnrkAirNHw=s64",
      "userId": "01216211630320060028"
     },
     "user_tz": -330
    },
    "id": "ZMcrR8jhMerH"
   },
   "outputs": [],
   "source": [
    "b,g,r = cv2.split(img1)"
   ]
  },
  {
   "cell_type": "code",
   "execution_count": 40,
   "metadata": {
    "colab": {
     "base_uri": "https://localhost:8080/"
    },
    "executionInfo": {
     "elapsed": 10,
     "status": "ok",
     "timestamp": 1641922615000,
     "user": {
      "displayName": "HIMANSHU RANA",
      "photoUrl": "https://lh3.googleusercontent.com/a-/AOh14GjjkC1wXjPyF96d4AJ0A-ejLP-jcpcSnnrkAirNHw=s64",
      "userId": "01216211630320060028"
     },
     "user_tz": -330
    },
    "id": "N8PSChx3NrKG",
    "outputId": "2d7a179f-d4e0-4512-e145-9ea9225fd19b"
   },
   "outputs": [
    {
     "data": {
      "text/plain": [
       "array([[188, 189, 189, ..., 188, 188, 188],\n",
       "       [188, 189, 189, ..., 188, 188, 188],\n",
       "       [188, 189, 189, ..., 188, 188, 188],\n",
       "       ...,\n",
       "       [167, 167, 167, ..., 177, 177, 177],\n",
       "       [171, 171, 172, ..., 177, 177, 177],\n",
       "       [177, 177, 178, ..., 177, 177, 177]], dtype=uint8)"
      ]
     },
     "execution_count": 40,
     "metadata": {},
     "output_type": "execute_result"
    }
   ],
   "source": [
    "b"
   ]
  },
  {
   "cell_type": "code",
   "execution_count": 41,
   "metadata": {
    "executionInfo": {
     "elapsed": 652,
     "status": "ok",
     "timestamp": 1641922698659,
     "user": {
      "displayName": "HIMANSHU RANA",
      "photoUrl": "https://lh3.googleusercontent.com/a-/AOh14GjjkC1wXjPyF96d4AJ0A-ejLP-jcpcSnnrkAirNHw=s64",
      "userId": "01216211630320060028"
     },
     "user_tz": -330
    },
    "id": "Ct7mAXtJN2va"
   },
   "outputs": [],
   "source": [
    "cv2.imshow('color',img1)\n",
    "cv2.imshow('blue',b)\n",
    "cv2.imshow('red',r)\n",
    "cv2.imshow('green',g)\n",
    "cv2.waitKey(0)\n",
    "cv2.destroyAllWindows()"
   ]
  },
  {
   "cell_type": "markdown",
   "metadata": {
    "id": "sKV_3JqTOblX"
   },
   "source": [
    "## Color Converter"
   ]
  },
  {
   "cell_type": "code",
   "execution_count": 44,
   "metadata": {
    "executionInfo": {
     "elapsed": 634,
     "status": "ok",
     "timestamp": 1641922894496,
     "user": {
      "displayName": "HIMANSHU RANA",
      "photoUrl": "https://lh3.googleusercontent.com/a-/AOh14GjjkC1wXjPyF96d4AJ0A-ejLP-jcpcSnnrkAirNHw=s64",
      "userId": "01216211630320060028"
     },
     "user_tz": -330
    },
    "id": "RioVTy9LOVN7"
   },
   "outputs": [],
   "source": [
    "img1_rgb = cv2.cvtColor(img1,cv2.COLOR_BGR2RGB)"
   ]
  },
  {
   "cell_type": "code",
   "execution_count": 46,
   "metadata": {
    "colab": {
     "base_uri": "https://localhost:8080/"
    },
    "executionInfo": {
     "elapsed": 559,
     "status": "ok",
     "timestamp": 1641922909675,
     "user": {
      "displayName": "HIMANSHU RANA",
      "photoUrl": "https://lh3.googleusercontent.com/a-/AOh14GjjkC1wXjPyF96d4AJ0A-ejLP-jcpcSnnrkAirNHw=s64",
      "userId": "01216211630320060028"
     },
     "user_tz": -330
    },
    "id": "XeMkiowYOxUW",
    "outputId": "ef422d26-6c0e-409c-a8b5-8c7fd4acb3f7",
    "scrolled": true
   },
   "outputs": [
    {
     "data": {
      "text/plain": [
       "array([[[119, 163, 188],\n",
       "        [120, 164, 189],\n",
       "        [120, 164, 189],\n",
       "        ...,\n",
       "        [119, 163, 188],\n",
       "        [119, 163, 188],\n",
       "        [119, 163, 188]],\n",
       "\n",
       "       [[119, 163, 188],\n",
       "        [120, 164, 189],\n",
       "        [120, 164, 189],\n",
       "        ...,\n",
       "        [119, 163, 188],\n",
       "        [119, 163, 188],\n",
       "        [119, 163, 188]],\n",
       "\n",
       "       [[119, 163, 188],\n",
       "        [120, 164, 189],\n",
       "        [120, 164, 189],\n",
       "        ...,\n",
       "        [119, 163, 188],\n",
       "        [119, 163, 188],\n",
       "        [119, 163, 188]],\n",
       "\n",
       "       ...,\n",
       "\n",
       "       [[ 88, 134, 167],\n",
       "        [ 88, 134, 167],\n",
       "        [ 88, 134, 167],\n",
       "        ...,\n",
       "        [ 98, 144, 177],\n",
       "        [ 98, 144, 177],\n",
       "        [ 98, 144, 177]],\n",
       "\n",
       "       [[ 94, 141, 171],\n",
       "        [ 94, 141, 171],\n",
       "        [ 95, 142, 172],\n",
       "        ...,\n",
       "        [ 98, 144, 177],\n",
       "        [ 98, 144, 177],\n",
       "        [ 98, 144, 177]],\n",
       "\n",
       "       [[100, 147, 177],\n",
       "        [100, 147, 177],\n",
       "        [101, 148, 178],\n",
       "        ...,\n",
       "        [ 98, 144, 177],\n",
       "        [ 98, 144, 177],\n",
       "        [ 98, 144, 177]]], dtype=uint8)"
      ]
     },
     "execution_count": 46,
     "metadata": {},
     "output_type": "execute_result"
    }
   ],
   "source": [
    "img1_rgb"
   ]
  },
  {
   "cell_type": "code",
   "execution_count": 47,
   "metadata": {
    "executionInfo": {
     "elapsed": 768,
     "status": "ok",
     "timestamp": 1641922939736,
     "user": {
      "displayName": "HIMANSHU RANA",
      "photoUrl": "https://lh3.googleusercontent.com/a-/AOh14GjjkC1wXjPyF96d4AJ0A-ejLP-jcpcSnnrkAirNHw=s64",
      "userId": "01216211630320060028"
     },
     "user_tz": -330
    },
    "id": "nEURmu-mO5lH"
   },
   "outputs": [],
   "source": [
    "# grayscale\n",
    "gray = cv2.cvtColor(img1,cv2.COLOR_BGR2GRAY)"
   ]
  },
  {
   "cell_type": "code",
   "execution_count": 48,
   "metadata": {
    "colab": {
     "base_uri": "https://localhost:8080/"
    },
    "executionInfo": {
     "elapsed": 639,
     "status": "ok",
     "timestamp": 1641922947290,
     "user": {
      "displayName": "HIMANSHU RANA",
      "photoUrl": "https://lh3.googleusercontent.com/a-/AOh14GjjkC1wXjPyF96d4AJ0A-ejLP-jcpcSnnrkAirNHw=s64",
      "userId": "01216211630320060028"
     },
     "user_tz": -330
    },
    "id": "Aq_QGwOJO8Tp",
    "outputId": "8a4e3dbb-4a81-4d6d-ea7f-dc0ac88ec9ca"
   },
   "outputs": [
    {
     "data": {
      "text/plain": [
       "array([[153, 154, 154, ..., 153, 153, 153],\n",
       "       [153, 154, 154, ..., 153, 153, 153],\n",
       "       [153, 154, 154, ..., 153, 153, 153],\n",
       "       ...,\n",
       "       [124, 124, 124, ..., 134, 134, 134],\n",
       "       [130, 130, 131, ..., 134, 134, 134],\n",
       "       [136, 136, 137, ..., 134, 134, 134]], dtype=uint8)"
      ]
     },
     "execution_count": 48,
     "metadata": {},
     "output_type": "execute_result"
    }
   ],
   "source": [
    "gray"
   ]
  },
  {
   "cell_type": "code",
   "execution_count": 49,
   "metadata": {
    "colab": {
     "base_uri": "https://localhost:8080/",
     "height": 1000
    },
    "executionInfo": {
     "elapsed": 2071,
     "status": "ok",
     "timestamp": 1641923030419,
     "user": {
      "displayName": "HIMANSHU RANA",
      "photoUrl": "https://lh3.googleusercontent.com/a-/AOh14GjjkC1wXjPyF96d4AJ0A-ejLP-jcpcSnnrkAirNHw=s64",
      "userId": "01216211630320060028"
     },
     "user_tz": -330
    },
    "id": "M01gNLldO9_M",
    "outputId": "f35fa330-60bd-4071-af77-2bfd3780dc58"
   },
   "outputs": [],
   "source": [
    "cv2.imshow('color_bgr',img1)\n",
    "cv2.imshow('color_rgb',img1_rgb)\n",
    "cv2.imshow('gray',gray)\n",
    "cv2.waitKey(0)\n",
    "cv2.destroyAllWindows()"
   ]
  },
  {
   "cell_type": "code",
   "execution_count": 50,
   "metadata": {
    "colab": {
     "base_uri": "https://localhost:8080/"
    },
    "executionInfo": {
     "elapsed": 575,
     "status": "ok",
     "timestamp": 1641923067543,
     "user": {
      "displayName": "HIMANSHU RANA",
      "photoUrl": "https://lh3.googleusercontent.com/a-/AOh14GjjkC1wXjPyF96d4AJ0A-ejLP-jcpcSnnrkAirNHw=s64",
      "userId": "01216211630320060028"
     },
     "user_tz": -330
    },
    "id": "xjsOi9ljPX0s",
    "outputId": "089fcb60-3072-49d3-abe9-b8b48b7a755c"
   },
   "outputs": [
    {
     "data": {
      "text/plain": [
       "True"
      ]
     },
     "execution_count": 50,
     "metadata": {},
     "output_type": "execute_result"
    }
   ],
   "source": [
    "cv2.imwrite('./images/GRAY.png',gray)"
   ]
  },
  {
   "cell_type": "markdown",
   "metadata": {
    "id": "7sMkWRL5Pr3v"
   },
   "source": [
    "# Accessing And Manipulate Pixels"
   ]
  },
  {
   "cell_type": "code",
   "execution_count": 3,
   "metadata": {
    "executionInfo": {
     "elapsed": 589,
     "status": "ok",
     "timestamp": 1641923256608,
     "user": {
      "displayName": "HIMANSHU RANA",
      "photoUrl": "https://lh3.googleusercontent.com/a-/AOh14GjjkC1wXjPyF96d4AJ0A-ejLP-jcpcSnnrkAirNHw=s64",
      "userId": "01216211630320060028"
     },
     "user_tz": -330
    },
    "id": "xEPTQ3KXQClY"
   },
   "outputs": [],
   "source": [
    "img2 = cv2.imread('./images/bird.jpg')"
   ]
  },
  {
   "cell_type": "code",
   "execution_count": 4,
   "metadata": {
    "executionInfo": {
     "elapsed": 5016,
     "status": "ok",
     "timestamp": 1641923273760,
     "user": {
      "displayName": "HIMANSHU RANA",
      "photoUrl": "https://lh3.googleusercontent.com/a-/AOh14GjjkC1wXjPyF96d4AJ0A-ejLP-jcpcSnnrkAirNHw=s64",
      "userId": "01216211630320060028"
     },
     "user_tz": -330
    },
    "id": "GJBnJ8zgQJtI"
   },
   "outputs": [],
   "source": [
    "def display(winname,image):\n",
    "    cv2.imshow(winname,image)\n",
    "    cv2.waitKey(0)\n",
    "    cv2.destroyAllWindows()"
   ]
  },
  {
   "cell_type": "code",
   "execution_count": 5,
   "metadata": {
    "colab": {
     "base_uri": "https://localhost:8080/",
     "height": 698
    },
    "executionInfo": {
     "elapsed": 1823,
     "status": "ok",
     "timestamp": 1641923320838,
     "user": {
      "displayName": "HIMANSHU RANA",
      "photoUrl": "https://lh3.googleusercontent.com/a-/AOh14GjjkC1wXjPyF96d4AJ0A-ejLP-jcpcSnnrkAirNHw=s64",
      "userId": "01216211630320060028"
     },
     "user_tz": -330
    },
    "id": "Z9OXqASMQM13",
    "outputId": "0731e915-d579-4f8f-e8a6-7deb4f712ec6"
   },
   "outputs": [],
   "source": [
    "display('winname',img2)"
   ]
  },
  {
   "cell_type": "code",
   "execution_count": 6,
   "metadata": {
    "colab": {
     "base_uri": "https://localhost:8080/"
    },
    "executionInfo": {
     "elapsed": 625,
     "status": "ok",
     "timestamp": 1641923337048,
     "user": {
      "displayName": "HIMANSHU RANA",
      "photoUrl": "https://lh3.googleusercontent.com/a-/AOh14GjjkC1wXjPyF96d4AJ0A-ejLP-jcpcSnnrkAirNHw=s64",
      "userId": "01216211630320060028"
     },
     "user_tz": -330
    },
    "id": "AOl3l2v2QbA5",
    "outputId": "6dbc7b4b-4177-4102-dfa5-677daa852302"
   },
   "outputs": [
    {
     "data": {
      "text/plain": [
       "(681, 640, 3)"
      ]
     },
     "execution_count": 6,
     "metadata": {},
     "output_type": "execute_result"
    }
   ],
   "source": [
    "img2.shape"
   ]
  },
  {
   "cell_type": "code",
   "execution_count": 7,
   "metadata": {
    "colab": {
     "base_uri": "https://localhost:8080/"
    },
    "executionInfo": {
     "elapsed": 548,
     "status": "ok",
     "timestamp": 1641923347700,
     "user": {
      "displayName": "HIMANSHU RANA",
      "photoUrl": "https://lh3.googleusercontent.com/a-/AOh14GjjkC1wXjPyF96d4AJ0A-ejLP-jcpcSnnrkAirNHw=s64",
      "userId": "01216211630320060028"
     },
     "user_tz": -330
    },
    "id": "7ibiELXoQdVV",
    "outputId": "0f7c424d-413c-4999-848f-6f8987804f79"
   },
   "outputs": [
    {
     "data": {
      "text/plain": [
       "numpy.ndarray"
      ]
     },
     "execution_count": 7,
     "metadata": {},
     "output_type": "execute_result"
    }
   ],
   "source": [
    "type(img2)"
   ]
  },
  {
   "cell_type": "code",
   "execution_count": 10,
   "metadata": {
    "executionInfo": {
     "elapsed": 701,
     "status": "ok",
     "timestamp": 1641923356139,
     "user": {
      "displayName": "HIMANSHU RANA",
      "photoUrl": "https://lh3.googleusercontent.com/a-/AOh14GjjkC1wXjPyF96d4AJ0A-ejLP-jcpcSnnrkAirNHw=s64",
      "userId": "01216211630320060028"
     },
     "user_tz": -330
    },
    "id": "VIHIeDimQf-_"
   },
   "outputs": [],
   "source": [
    "# acess first 100 rows and 100 columns\n",
    "corners = img2[0:100,0:100]"
   ]
  },
  {
   "cell_type": "code",
   "execution_count": 11,
   "metadata": {
    "colab": {
     "base_uri": "https://localhost:8080/",
     "height": 117
    },
    "executionInfo": {
     "elapsed": 584,
     "status": "ok",
     "timestamp": 1641923394649,
     "user": {
      "displayName": "HIMANSHU RANA",
      "photoUrl": "https://lh3.googleusercontent.com/a-/AOh14GjjkC1wXjPyF96d4AJ0A-ejLP-jcpcSnnrkAirNHw=s64",
      "userId": "01216211630320060028"
     },
     "user_tz": -330
    },
    "id": "LTDdlLGWQiAq",
    "outputId": "cd3decfe-9aa0-4f2d-f67b-bfc612a97cfb"
   },
   "outputs": [],
   "source": [
    "display('corner',corners)"
   ]
  },
  {
   "cell_type": "code",
   "execution_count": 12,
   "metadata": {
    "colab": {
     "base_uri": "https://localhost:8080/",
     "height": 798
    },
    "executionInfo": {
     "elapsed": 1832,
     "status": "ok",
     "timestamp": 1641923452638,
     "user": {
      "displayName": "HIMANSHU RANA",
      "photoUrl": "https://lh3.googleusercontent.com/a-/AOh14GjjkC1wXjPyF96d4AJ0A-ejLP-jcpcSnnrkAirNHw=s64",
      "userId": "01216211630320060028"
     },
     "user_tz": -330
    },
    "id": "FHiT6g5EQrT4",
    "outputId": "2a4af105-47ba-4a94-d583-25be4b35be7c"
   },
   "outputs": [],
   "source": [
    "cv2.imshow('original',img2)\n",
    "cv2.imshow('cornor',corners)\n",
    "cv2.waitKey(0)\n",
    "cv2.destroyAllWindows()"
   ]
  },
  {
   "cell_type": "code",
   "execution_count": 14,
   "metadata": {
    "executionInfo": {
     "elapsed": 703,
     "status": "ok",
     "timestamp": 1641923467149,
     "user": {
      "displayName": "HIMANSHU RANA",
      "photoUrl": "https://lh3.googleusercontent.com/a-/AOh14GjjkC1wXjPyF96d4AJ0A-ejLP-jcpcSnnrkAirNHw=s64",
      "userId": "01216211630320060028"
     },
     "user_tz": -330
    },
    "id": "Sl_FZUxIQ6_V"
   },
   "outputs": [],
   "source": [
    "# change first 100 rows and 100 columns to green color\n",
    "green = (0,255,0)\n",
    "img2[0:100,0:100] = green"
   ]
  },
  {
   "cell_type": "code",
   "execution_count": 15,
   "metadata": {
    "colab": {
     "base_uri": "https://localhost:8080/",
     "height": 698
    },
    "executionInfo": {
     "elapsed": 3060,
     "status": "ok",
     "timestamp": 1641923499548,
     "user": {
      "displayName": "HIMANSHU RANA",
      "photoUrl": "https://lh3.googleusercontent.com/a-/AOh14GjjkC1wXjPyF96d4AJ0A-ejLP-jcpcSnnrkAirNHw=s64",
      "userId": "01216211630320060028"
     },
     "user_tz": -330
    },
    "id": "AWyPA-IaQ9HR",
    "outputId": "715d4c68-e972-4a9f-ae5e-3bbf904cfecd"
   },
   "outputs": [],
   "source": [
    "display('manipulate',img2)"
   ]
  }
 ],
 "metadata": {
  "colab": {
   "authorship_tag": "ABX9TyMxxOVHuFe4KCp5Wzj6Y5TP",
   "collapsed_sections": [],
   "name": "Image_Basics.ipynb",
   "provenance": []
  },
  "kernelspec": {
   "display_name": "Python 3 (ipykernel)",
   "language": "python",
   "name": "python3"
  },
  "language_info": {
   "codemirror_mode": {
    "name": "ipython",
    "version": 3
   },
   "file_extension": ".py",
   "mimetype": "text/x-python",
   "name": "python",
   "nbconvert_exporter": "python",
   "pygments_lexer": "ipython3",
   "version": "3.9.7"
  }
 },
 "nbformat": 4,
 "nbformat_minor": 1
}
