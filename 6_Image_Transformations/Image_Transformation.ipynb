{
 "cells": [
  {
   "cell_type": "markdown",
   "id": "1f32fbe6",
   "metadata": {},
   "source": [
    "# Image Transformations"
   ]
  },
  {
   "cell_type": "markdown",
   "id": "13c0a09c",
   "metadata": {},
   "source": [
    "## Load & Display Image"
   ]
  },
  {
   "cell_type": "code",
   "execution_count": 1,
   "id": "9a97a3a3",
   "metadata": {},
   "outputs": [],
   "source": [
    "import numpy as np\n",
    "import cv2"
   ]
  },
  {
   "cell_type": "code",
   "execution_count": 2,
   "id": "c021461f",
   "metadata": {},
   "outputs": [],
   "source": [
    "img = cv2.imread('./images/flemingo.jpg')"
   ]
  },
  {
   "cell_type": "code",
   "execution_count": 3,
   "id": "d51f8d2e",
   "metadata": {},
   "outputs": [],
   "source": [
    "def display(winame,img):\n",
    "    cv2.imshow(winame,img)\n",
    "    cv2.waitKey(0)\n",
    "    cv2.destroyAllWindows()"
   ]
  },
  {
   "cell_type": "code",
   "execution_count": 4,
   "id": "c5beba80",
   "metadata": {},
   "outputs": [],
   "source": [
    "display('bird',img)"
   ]
  },
  {
   "cell_type": "markdown",
   "id": "9b8c40e4",
   "metadata": {},
   "source": [
    "## Image Translation"
   ]
  },
  {
   "cell_type": "code",
   "execution_count": 5,
   "id": "5e74a3b3",
   "metadata": {},
   "outputs": [
    {
     "data": {
      "text/plain": [
       "array([[  1.,   0., 100.],\n",
       "       [  0.,   1., 150.]], dtype=float32)"
      ]
     },
     "execution_count": 5,
     "metadata": {},
     "output_type": "execute_result"
    }
   ],
   "source": [
    "tx = 100 # right\n",
    "ty = 150 # download\n",
    "M = np.float32([[1,0,tx],\n",
    "         [0,1,ty]])\n",
    "# (+)ve value of tx -> right\n",
    "# (-)ve value of tx -> left\n",
    "# (+)ve value of ty -> down\n",
    "# (-)ve value of ty -> up\n",
    "M"
   ]
  },
  {
   "cell_type": "code",
   "execution_count": 6,
   "id": "8bad38a7",
   "metadata": {},
   "outputs": [],
   "source": [
    "shifted_img = cv2.warpAffine(img,M,(img.shape[1],img.shape[0]))\n",
    "# (input_image_array, translation_matrix, (number_of_rows, number_of_columns) of an image)"
   ]
  },
  {
   "cell_type": "code",
   "execution_count": 28,
   "id": "5f86f2f9",
   "metadata": {},
   "outputs": [],
   "source": [
    "display('shifted righ 100, down 150',shifted_img)"
   ]
  },
  {
   "cell_type": "code",
   "execution_count": 8,
   "id": "90bf605e",
   "metadata": {},
   "outputs": [],
   "source": [
    "def translation(image,tx,ty):\n",
    "    M = np.float32([[1,0,tx],\n",
    "         [0,1,ty]])\n",
    "    shifted_img = cv2.warpAffine(image,M,(image.shape[1],image.shape[0]))\n",
    "    display('shifted',shifted_img)"
   ]
  },
  {
   "cell_type": "code",
   "execution_count": 9,
   "id": "5ee1a314",
   "metadata": {},
   "outputs": [],
   "source": [
    "translation(img,-100,-150)"
   ]
  },
  {
   "cell_type": "markdown",
   "id": "d6640929",
   "metadata": {},
   "source": [
    "## Image Rotation"
   ]
  },
  {
   "cell_type": "code",
   "execution_count": 10,
   "id": "f75f69be",
   "metadata": {},
   "outputs": [],
   "source": [
    "display('bird',img)"
   ]
  },
  {
   "cell_type": "code",
   "execution_count": 11,
   "id": "fc3927f5",
   "metadata": {},
   "outputs": [],
   "source": [
    "center = (img.shape[1]//2,img.shape[0]//2)"
   ]
  },
  {
   "cell_type": "code",
   "execution_count": 12,
   "id": "aa6f9011",
   "metadata": {},
   "outputs": [
    {
     "data": {
      "text/plain": [
       "array([[   0.70710678,    0.70710678, -132.54833996],\n",
       "       [  -0.70710678,    0.70710678,  320.        ]])"
      ]
     },
     "execution_count": 12,
     "metadata": {},
     "output_type": "execute_result"
    }
   ],
   "source": [
    "M = cv2.getRotationMatrix2D(center,45,1)\n",
    "M"
   ]
  },
  {
   "cell_type": "code",
   "execution_count": 13,
   "id": "07113853",
   "metadata": {},
   "outputs": [],
   "source": [
    "rotate_45 = cv2.warpAffine(img,M,(img.shape[1],img.shape[0]))"
   ]
  },
  {
   "cell_type": "code",
   "execution_count": 14,
   "id": "30dbfdc2",
   "metadata": {},
   "outputs": [],
   "source": [
    "display('rotate 45 anti clock',rotate_45)"
   ]
  },
  {
   "cell_type": "code",
   "execution_count": 15,
   "id": "f2b2a5df",
   "metadata": {},
   "outputs": [],
   "source": [
    "def rotate(image,angle,scale):\n",
    "    center = (image.shape[1]//2,image.shape[0]//2)\n",
    "    M = cv2.getRotationMatrix2D(center,angle,scale)\n",
    "    rotate_img = cv2.warpAffine(image,M,(image.shape[1],image.shape[0]))\n",
    "    \n",
    "    display('rotate',rotate_img)"
   ]
  },
  {
   "cell_type": "code",
   "execution_count": 16,
   "id": "03440ccf",
   "metadata": {},
   "outputs": [],
   "source": [
    "rotate(img,-30,0.3)"
   ]
  },
  {
   "cell_type": "markdown",
   "id": "72ba65f8",
   "metadata": {},
   "source": [
    "## Image Resize"
   ]
  },
  {
   "cell_type": "code",
   "execution_count": 17,
   "id": "30eb9ede",
   "metadata": {},
   "outputs": [
    {
     "data": {
      "text/plain": [
       "(640, 640, 3)"
      ]
     },
     "execution_count": 17,
     "metadata": {},
     "output_type": "execute_result"
    }
   ],
   "source": [
    "img.shape"
   ]
  },
  {
   "cell_type": "code",
   "execution_count": 18,
   "id": "f3bcd5f7",
   "metadata": {},
   "outputs": [],
   "source": [
    "img_resize = cv2.resize(img,(300,300),interpolation=cv2.INTER_AREA)"
   ]
  },
  {
   "cell_type": "code",
   "execution_count": 19,
   "id": "461fc526",
   "metadata": {},
   "outputs": [],
   "source": [
    "display('resize',img)"
   ]
  },
  {
   "cell_type": "code",
   "execution_count": 20,
   "id": "48796b05",
   "metadata": {},
   "outputs": [],
   "source": [
    "cv2.imshow('orginal',img)\n",
    "cv2.imshow('resize',img_resize)\n",
    "cv2.waitKey(0)\n",
    "cv2.destroyAllWindows()"
   ]
  },
  {
   "cell_type": "code",
   "execution_count": 21,
   "id": "0eaff704",
   "metadata": {},
   "outputs": [],
   "source": [
    "img_resize = cv2.resize(img,(400,300),interpolation=cv2.INTER_AREA)"
   ]
  },
  {
   "cell_type": "code",
   "execution_count": 22,
   "id": "59079341",
   "metadata": {},
   "outputs": [],
   "source": [
    "cv2.imshow('orginal',img)\n",
    "cv2.imshow('resize',img_resize)\n",
    "cv2.waitKey(0)\n",
    "cv2.destroyAllWindows()"
   ]
  },
  {
   "cell_type": "markdown",
   "id": "ca963c58",
   "metadata": {},
   "source": [
    "## Image Flipping"
   ]
  },
  {
   "cell_type": "code",
   "execution_count": 23,
   "id": "4782ade7",
   "metadata": {},
   "outputs": [],
   "source": [
    "flip_img = cv2.flip(img,0) # 1,-1,0\n",
    "# Flip code :\n",
    "# 0 -> Flip Vertically(flipping around the x-axis)\n",
    "# 1 -> Flip Horizontally(positive value (for example, 1) means flipping around y-axis)\n",
    "# -1 -> Flip Horizontally & Vertically(Negative value (for example, -1) means flipping around both axes)"
   ]
  },
  {
   "cell_type": "code",
   "execution_count": 24,
   "id": "dbace06c",
   "metadata": {},
   "outputs": [],
   "source": [
    "cv2.imshow('orignal_image',img)\n",
    "cv2.imshow('flip image',flip_img)\n",
    "cv2.waitKey(0)\n",
    "cv2.destroyAllWindows()"
   ]
  },
  {
   "cell_type": "markdown",
   "id": "5093f319",
   "metadata": {},
   "source": [
    "## Image Cropping"
   ]
  },
  {
   "cell_type": "code",
   "execution_count": 25,
   "id": "a808515c",
   "metadata": {},
   "outputs": [],
   "source": [
    "display('image',img)"
   ]
  },
  {
   "cell_type": "code",
   "execution_count": 26,
   "id": "38196d21",
   "metadata": {},
   "outputs": [],
   "source": [
    "crop = img[100:400,100:400]"
   ]
  },
  {
   "cell_type": "code",
   "execution_count": 27,
   "id": "8f5f9cde",
   "metadata": {},
   "outputs": [],
   "source": [
    "display('crop',crop)"
   ]
  }
 ],
 "metadata": {
  "kernelspec": {
   "display_name": "Python 3 (ipykernel)",
   "language": "python",
   "name": "python3"
  },
  "language_info": {
   "codemirror_mode": {
    "name": "ipython",
    "version": 3
   },
   "file_extension": ".py",
   "mimetype": "text/x-python",
   "name": "python",
   "nbconvert_exporter": "python",
   "pygments_lexer": "ipython3",
   "version": "3.9.7"
  }
 },
 "nbformat": 4,
 "nbformat_minor": 5
}
